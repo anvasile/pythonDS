{
 "cells": [
  {
   "cell_type": "code",
   "execution_count": null,
   "id": "77dcf10e",
   "metadata": {},
   "outputs": [],
   "source": [
    "import numpy as np\n",
    "import pandas as pd\n",
    "import pickle\n",
    "\n",
    "from sklearn.model_selection import train_test_split\n",
    "from sklearn.preprocessing import StandardScaler\n",
    "from sklearn.linear_model import LinearRegression\n",
    "from sklearn.ensemble import RandomForestRegressor, GradientBoostingRegressor\n",
    "from sklearn.metrics import r2_score as r2, mean_absolute_error as mae, mean_squared_error as mse\n",
    "from sklearn.model_selection import KFold, GridSearchCV\n",
    "from sklearn.metrics import accuracy_score\n",
    "\n",
    "import matplotlib\n",
    "import matplotlib.pyplot as plt\n",
    "import seaborn as sns\n",
    "%matplotlib inline"
   ]
  },
  {
   "cell_type": "code",
   "execution_count": null,
   "id": "5810d7fb",
   "metadata": {},
   "outputs": [],
   "source": [
    "import warnings\n",
    "warnings.filterwarnings('ignore')"
   ]
  },
  {
   "cell_type": "code",
   "execution_count": null,
   "id": "3fa8c4f9",
   "metadata": {},
   "outputs": [],
   "source": [
    "matplotlib.rcParams.update({'font.size': 14})"
   ]
  },
  {
   "cell_type": "code",
   "execution_count": null,
   "id": "05496246",
   "metadata": {},
   "outputs": [],
   "source": [
    "def evaluate_preds(true_values, pred_values):\n",
    "    print(\"R2:\\t\" + str(round(r2(true_values, pred_values), 3)) + \"\\n\" +\n",
    "          \"MAE:\\t\" + str(round(mae(true_values, pred_values), 3)) + \"\\n\" +\n",
    "          \"MSE:\\t\" + str(round(mse(true_values, pred_values), 3)))\n",
    "    \n",
    "    plt.figure(figsize=(10,10))\n",
    "    \n",
    "    sns.scatterplot(x=pred_values, y=true_values)\n",
    "    \n",
    "    plt.xlabel('Predicted values')\n",
    "    plt.ylabel('True values')\n",
    "    plt.title('True vs Predicted values')\n",
    "    plt.show()"
   ]
  },
  {
   "cell_type": "code",
   "execution_count": null,
   "id": "b56627a3",
   "metadata": {},
   "outputs": [],
   "source": [
    "def to_Str(df_, list):\n",
    "    for i in list:\n",
    "        df_[i] = df_[i].astype(str)\n",
    "def AB_to_NewIntColumns(df_, list, p):\n",
    "    for i in list:\n",
    "        df_[i+'_'] = df_[i].apply(lambda x: x==p)\n",
    "        df[i+'_'] = df[i+'_'].astype(int)\n",
    "def AB_to_IntColumns(df_, list, p):\n",
    "    for i in list:\n",
    "        df_[i+'_'] = df_[i].apply(lambda x: x==p)\n",
    "        df_[i+'_'] = df_[i+'_'].astype(int)\n",
    "        df_[i] = df_[i+'_']"
   ]
  },
  {
   "cell_type": "code",
   "execution_count": null,
   "id": "32c8dcb0",
   "metadata": {},
   "outputs": [],
   "source": [
    "def get_NaN_info(df_):\n",
    "    return len(df_)-df_.count()\n",
    "\n",
    "def set_NaN_median(df_, col1):\n",
    "    df_.loc[df_[col1].isnull(), col1] = df_[col1].median()"
   ]
  },
  {
   "cell_type": "code",
   "execution_count": null,
   "id": "79d1f842",
   "metadata": {},
   "outputs": [],
   "source": [
    "def features_Stand(features_,X_):\n",
    "    scaler = StandardScaler()\n",
    "    X_train_scaled = X_.copy()\n",
    "    X_train_scaled[features_] = scaler.fit_transform(X_train_scaled[features_])\n",
    "    return X_train_scaled"
   ]
  },
  {
   "cell_type": "code",
   "execution_count": null,
   "id": "7880d37d",
   "metadata": {},
   "outputs": [],
   "source": [
    "def IQ_param_get(df_, column_):\n",
    "    m = df_[column_].median()\n",
    "    c = column_\n",
    "    IQ=df_[c].describe()['75%']-df_[c].describe()['25%']\n",
    "    \n",
    "    low_border=df_[c].describe()['25%']-IQ*1.5\n",
    "    \n",
    "    high_border=df_[c].describe()['75%']+IQ*1.5\n",
    " \n",
    "    count1 = df_[(df_[c] < low_border) | (df_[c]> high_border)][c].count()\n",
    "    \n",
    "    result = {\n",
    "        'IQ':IQ,\n",
    "        'low_border':low_border,\n",
    "        'high_border':high_border,\n",
    "        'count': count1,\n",
    "        'median': m\n",
    "    }\n",
    "    return result"
   ]
  },
  {
   "cell_type": "code",
   "execution_count": null,
   "id": "da937223",
   "metadata": {},
   "outputs": [],
   "source": [
    "test = pd.read_csv('test.csv')\n",
    "train = pd.read_csv('train.csv')"
   ]
  },
  {
   "cell_type": "code",
   "execution_count": null,
   "id": "83db7692",
   "metadata": {},
   "outputs": [],
   "source": [
    "train.head()"
   ]
  },
  {
   "cell_type": "code",
   "execution_count": null,
   "id": "826f6784",
   "metadata": {},
   "outputs": [],
   "source": [
    "plt.figure(figsize = (16, 8))\n",
    "\n",
    "train['Price'].hist(bins=32)\n",
    "plt.ylabel('count')\n",
    "plt.xlabel('Price')\n",
    "\n",
    "plt.title('Distribution of Price value in TRAINING dataset')\n",
    "plt.show()"
   ]
  },
  {
   "cell_type": "code",
   "execution_count": null,
   "id": "1f704120",
   "metadata": {},
   "outputs": [],
   "source": [
    "train.dtypes"
   ]
  },
  {
   "cell_type": "code",
   "execution_count": null,
   "id": "74546733",
   "metadata": {},
   "outputs": [],
   "source": [
    "train['Ecology_2'].value_counts()"
   ]
  },
  {
   "cell_type": "code",
   "execution_count": null,
   "id": "a01b9a6b",
   "metadata": {},
   "outputs": [],
   "source": [
    "test['Ecology_2'].value_counts()"
   ]
  },
  {
   "cell_type": "code",
   "execution_count": null,
   "id": "a2507262",
   "metadata": {},
   "outputs": [],
   "source": [
    "to_Str(train,['Id'])\n",
    "to_Str(test,['Id'])"
   ]
  },
  {
   "cell_type": "code",
   "execution_count": null,
   "id": "190b14e6",
   "metadata": {},
   "outputs": [],
   "source": [
    "set_NaN_median(test,'LifeSquare')\n",
    "set_NaN_median(test,'Healthcare_1')"
   ]
  },
  {
   "cell_type": "code",
   "execution_count": null,
   "id": "f34ff1c4",
   "metadata": {},
   "outputs": [],
   "source": [
    "\n",
    "set_NaN_median(train,'LifeSquare')\n",
    "set_NaN_median(train,'Healthcare_1')"
   ]
  },
  {
   "cell_type": "code",
   "execution_count": null,
   "id": "12dabaa1",
   "metadata": {},
   "outputs": [],
   "source": [
    "KSmode = train['KitchenSquare'].mode()[0]\n",
    "LSmode = train['LifeSquare'].mode()[0]\n",
    "Rmode = train['Rooms'].mode()[0]\n",
    "print('MODE values in train are:')\n",
    "print('KitchenSquare:',KSmode,'LifeSquare:',LSmode,'Rooms:',Rmode)\n",
    "\n",
    "train.loc[train['Rooms']==0, 'Rooms'] = Rmode\n",
    "train.loc[train['KitchenSquare']==0, 'KitchenSquare'] = KSmode"
   ]
  },
  {
   "cell_type": "code",
   "execution_count": null,
   "id": "281827b9",
   "metadata": {},
   "outputs": [],
   "source": [
    "train['Rooms'].value_counts()"
   ]
  },
  {
   "cell_type": "code",
   "execution_count": null,
   "id": "0a7e4870",
   "metadata": {},
   "outputs": [],
   "source": [
    "KSmode = test['KitchenSquare'].mode()[0]\n",
    "LSmode = test['LifeSquare'].mode()[0]\n",
    "Rmode = test['Rooms'].mode()[0]\n",
    "print('MODE values in test are:')\n",
    "print('KitchenSquare:',KSmode,'LifeSquare:',LSmode,'Rooms:',Rmode)\n",
    "\n",
    "test.loc[test['Rooms']==0, 'Rooms'] = Rmode\n",
    "test.loc[test['KitchenSquare']==0, 'KitchenSquare'] = KSmode"
   ]
  },
  {
   "cell_type": "code",
   "execution_count": null,
   "id": "5e670d43",
   "metadata": {},
   "outputs": [],
   "source": [
    "\n",
    "test['Rooms'].value_counts()"
   ]
  },
  {
   "cell_type": "code",
   "execution_count": null,
   "id": "8a518991",
   "metadata": {},
   "outputs": [],
   "source": [
    "AB_to_IntColumns(test,['Ecology_2','Ecology_3','Shops_2'],'A')\n",
    "AB_to_IntColumns(train,['Ecology_2','Ecology_3','Shops_2'],'A')"
   ]
  },
  {
   "cell_type": "code",
   "execution_count": null,
   "id": "2032421b",
   "metadata": {},
   "outputs": [],
   "source": [
    "test['Shops_2'].value_counts()"
   ]
  },
  {
   "cell_type": "code",
   "execution_count": null,
   "id": "8ffb7d7d",
   "metadata": {},
   "outputs": [],
   "source": [
    "\n",
    "train = train.drop(['Ecology_2_'],axis=1)\n",
    "train = train.drop(['Ecology_3_'],axis=1)\n",
    "train = train.drop(['Shops_2_'],axis=1)\n",
    "test = test.drop(['Ecology_2_'],axis=1)\n",
    "test = test.drop(['Ecology_3_'],axis=1)\n",
    "test = test.drop(['Shops_2_'],axis=1)\n",
    "\n",
    "test.describe()"
   ]
  },
  {
   "cell_type": "code",
   "execution_count": null,
   "id": "7d6ff169",
   "metadata": {},
   "outputs": [],
   "source": [
    "def IQ_processing(df_, list_):\n",
    "    for i in list_:\n",
    "        c = i\n",
    "        IQP = IQ_param_get(df_,c)\n",
    "        print(c,IQP)\n",
    "        df_[(df_[c] < IQP['low_border']) | (df_[c]> IQP['high_border'])]\n",
    "        df_.loc[df_[c] > IQP['high_border'], c] = IQP['median']\n",
    "        df_.loc[df_[c] < IQP['low_border'], c] = IQP['median']\n",
    "        print('count after procesing:',df_[(df_[c] < IQP['low_border']) | (df_[c]> IQP['high_border'])][c].count())"
   ]
  },
  {
   "cell_type": "code",
   "execution_count": null,
   "id": "9b0564e1",
   "metadata": {},
   "outputs": [],
   "source": [
    "mode = train['HouseYear'].mode()[0]\n",
    "print('mode', mode)\n",
    "train.loc[train['HouseYear'] > 2019, 'HouseYear'] = mode\n",
    "train['HouseYear'] = train['HouseYear'].astype(int)\n",
    "train['HouseYear'].nlargest()"
   ]
  },
  {
   "cell_type": "code",
   "execution_count": null,
   "id": "50b3088d",
   "metadata": {},
   "outputs": [],
   "source": [
    "test.loc[test['HouseYear'] > 2019, 'HouseYear'] = test['HouseYear'].mode()[0]\n",
    "test['HouseYear'] = test['HouseYear'].astype(int)\n",
    "test['HouseYear'].nlargest()"
   ]
  },
  {
   "cell_type": "code",
   "execution_count": null,
   "id": "7436fc40",
   "metadata": {},
   "outputs": [],
   "source": [
    "\n",
    "def draw_feature(fname):\n",
    "    t = fname\n",
    "    plt.figure(figsize = (12, 6))\n",
    "\n",
    "    train[t].hist(bins=16)\n",
    "    test[t].hist(bins=16)\n",
    "    plt.ylabel('count')\n",
    "    plt.xlabel(t)\n",
    "\n",
    "    plt.title('Distribution of '+ t +' value in TRAINING and TEST dataset')\n",
    "    plt.show()"
   ]
  },
  {
   "cell_type": "code",
   "execution_count": null,
   "id": "d9afd3f4",
   "metadata": {},
   "outputs": [],
   "source": []
  }
 ],
 "metadata": {
  "kernelspec": {
   "display_name": "Python 3",
   "language": "python",
   "name": "python3"
  },
  "language_info": {
   "codemirror_mode": {
    "name": "ipython",
    "version": 3
   },
   "file_extension": ".py",
   "mimetype": "text/x-python",
   "name": "python",
   "nbconvert_exporter": "python",
   "pygments_lexer": "ipython3",
   "version": "3.8.8"
  }
 },
 "nbformat": 4,
 "nbformat_minor": 5
}
